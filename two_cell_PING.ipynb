{
  "nbformat": 4,
  "nbformat_minor": 0,
  "metadata": {
    "colab": {
      "provenance": []
    },
    "kernelspec": {
      "name": "python3",
      "display_name": "Python 3"
    }
  },
  "cells": [
    {
      "cell_type": "markdown",
      "metadata": {
        "id": "PBIQXMV7eL_T"
      },
      "source": [
        "Here is a first attempt to implement a 2-cell PING rhythm. "
      ]
    },
    {
      "cell_type": "code",
      "metadata": {
        "id": "mkWE8Ra0ereR"
      },
      "source": [
        "import numpy as np\n",
        "import matplotlib.pyplot as plt\n",
        "from scipy.integrate import odeint"
      ],
      "execution_count": null,
      "outputs": []
    },
    {
      "cell_type": "code",
      "metadata": {
        "id": "Re69utzyeGUy",
        "outputId": "223da3ec-4439-4f18-f82d-cea112033460",
        "colab": {
          "base_uri": "https://localhost:8080/",
          "height": 40
        }
      },
      "source": [
        "#First we create write down our constants. This should be the same for both cells\n",
        "C_m  =   1.0\n",
        "\"\"\"membrane capacitance, in uF/cm^2\"\"\"\n",
        "g_Na_e = 100\n",
        "\"\"\"Sodium (Na) maximum conductances, in mS/cm^2\"\"\"\n",
        "g_K_e  =  80\n",
        "\"\"\"Postassium (K) maximum conductances, in mS/cm^2\"\"\"\n",
        "g_L_e  =   0.1\n",
        "\"\"\"Leak maximum conductances, in mS/cm^2\"\"\"\n",
        "v_Na_e=  50\n",
        "\"\"\"Sodium (Na) Nernst reversal potentials, in mV\"\"\"\n",
        "v_K_e = -100\n",
        "\"\"\"Postassium (K) Nernst reversal potentials, in mV\"\"\"\n",
        "v_L_e  = -67\n",
        "\"\"\"Leak Nernst reversal potentials, in mV\"\"\"\n",
        "\n",
        "g_Na_i= 35.0\n",
        "\"\"\"Sodium (Na) maximum conductances, in mS/cm^2\"\"\"\n",
        "g_K_i  =  9.0\n",
        "\"\"\"Postassium (K) maximum conductances, in mS/cm^2\"\"\"\n",
        "g_L_i  =   0.1\n",
        "\"\"\"Leak maximum conductances, in mS/cm^2\"\"\"\n",
        "v_Na_i = 55\n",
        "\"\"\"Sodium (Na) Nernst reversal potentials, in mV\"\"\"\n",
        "v_K_i  = -90\n",
        "\"\"\"Postassium (K) Nernst reversal potentials, in mV\"\"\"\n",
        "v_L_i  = -65\n",
        "\"\"\"Leak Nernst reversal potentials, in mV\"\"\""
      ],
      "execution_count": null,
      "outputs": [
        {
          "output_type": "execute_result",
          "data": {
            "application/vnd.google.colaboratory.intrinsic+json": {
              "type": "string"
            },
            "text/plain": [
              "'Leak Nernst reversal potentials, in mV'"
            ]
          },
          "metadata": {
            "tags": []
          },
          "execution_count": 2
        }
      ]
    },
    {
      "cell_type": "code",
      "metadata": {
        "id": "Oj2pcncZgVfd"
      },
      "source": [
        "#Additional variables that are needed to create the communication between the two cells\n",
        "tau_r_e = 0.5\n",
        "tau_d_e = 3.0\n",
        "tau_r_i = 0.5\n",
        "tau_d_i = 9.0\n",
        "dt = 0.01\n",
        "tau_peak_e = 0.5\n",
        "tau_peak_i = 0.5\n",
        "V_rev_e = 0\n",
        "V_rev_i = -75.0\n",
        "tau_dq_e = .17\n",
        "tau_dq_i = .11\n",
        "###\n",
        "g_syn = .25"
      ],
      "execution_count": null,
      "outputs": []
    },
    {
      "cell_type": "markdown",
      "metadata": {
        "id": "j43TP8FJe_vi"
      },
      "source": [
        "Now we create our alphas and betas for our excitatory (RTM) neuron"
      ]
    },
    {
      "cell_type": "code",
      "metadata": {
        "id": "RM5a-HMjeq15"
      },
      "source": [
        "#Alpha ane beta, will be used for each m,n,h\n",
        "def alpha_m_e(V,a,b,c):\n",
        "      \"\"\"Channel gating kinetics. Functions of membrane voltage\"\"\"\n",
        "      return a*(V+b)/(1.0 - np.exp(-(V+b) / c))\n",
        "\n",
        "def beta_m_e(V,a,b,c):\n",
        "      \"\"\"Channel gating kinetics. Functions of membrane voltage\"\"\"\n",
        "      return a*(V + b)/(np.exp((V+b)/c)-1)\n",
        "\n",
        "def alpha_h_e(V,a,b,c):\n",
        "      \"\"\"Channel gating kinetics. Functions of membrane voltage\"\"\"\n",
        "      return a*np.exp(-(V+b) / c)\n",
        "\n",
        "def beta_h_e(V,a,b,c):\n",
        "      \"\"\"Channel gating kinetics. Functions of membrane voltage\"\"\"\n",
        "      return a/(1.0 + np.exp(-(V+b) / c))\n",
        "\n",
        "def alpha_n_e(V,a,b,c):\n",
        "      \"\"\"Channel gating kinetics. Functions of membrane voltage\"\"\"\n",
        "      return a*(V+b)/(1.0 - np.exp(-(V+b) / c))\n",
        "\n",
        "def beta_n_e(V,a,b,c):\n",
        "      \"\"\"Channel gatingutilizar kinetics. Functions of membrane voltage\"\"\"\n",
        "      return a*np.exp(-(V+b) / c)"
      ],
      "execution_count": null,
      "outputs": []
    },
    {
      "cell_type": "markdown",
      "metadata": {
        "id": "nXVOrpNTfUB7"
      },
      "source": [
        "We create now the alphas and betas for the inhibitory (WB) neuron\n",
        "\n"
      ]
    },
    {
      "cell_type": "code",
      "metadata": {
        "id": "okAc4G9vfN0z"
      },
      "source": [
        "def alpha_m_i(V,a,b,c): \n",
        "      \"\"\"Channel gating kinetics. Functions of membrane voltage\"\"\"\n",
        "      return a*(V+b)/(1.0 - np.exp(-(V+b) / c))\n",
        "\n",
        "def beta_m_i(V,a,b,c):\n",
        "      \"\"\"Channel gating kinetics. Functions of membrane voltage\"\"\"\n",
        "      return a*(np.exp(-(V+b) / c))\n",
        "\n",
        "def alpha_h_i(V,a,b,c):\n",
        "      \"\"\"Channel gating kinetics. Functions of membrane voltage\"\"\"\n",
        "      return a*np.exp(-(V+b) / c)\n",
        "\n",
        "def beta_h_i(V,a,b,c):\n",
        "      \"\"\"Channel gating kinetics. Functions of membrane voltage\"\"\"\n",
        "      return a/(1.0 + np.exp(-(V+b)/c))\n",
        "\n",
        "def alpha_n_i(V,a,b,c):\n",
        "      \"\"\"Channel gating kinetics. Functions of membrane voltage\"\"\"\n",
        "      return a*(V+b)/(1.0 - np.exp(-(V+b)/c))\n",
        "\n",
        "def beta_n_i(V,a,b,c):\n",
        "      \"\"\"Channel gatingutilizar kinetics. Functions of membrane voltage\"\"\"\n",
        "      return a*np.exp(-(V+b) / c)"
      ],
      "execution_count": null,
      "outputs": []
    },
    {
      "cell_type": "code",
      "metadata": {
        "id": "mc8Rs64sdo1R"
      },
      "source": [
        "def tau_peak_function(tau_d, tau_r, tau_d_q):\n",
        "\n",
        "    dt = 0.01\n",
        "    dt05 = 0.5 * dt\n",
        "\n",
        "    s = 0\n",
        "    t = 0\n",
        "    s_inc = np.exp(-t / tau_d_q) * (1.0 - s) / tau_r - s * tau_d\n",
        "    while s_inc > 0:\n",
        "        t_old = t\n",
        "        s_inc_old = s_inc\n",
        "        s_tmp = s + dt05 * s_inc\n",
        "        s_inc_tmp = np.exp(-(t + dt05) / tau_d_q) * \\\n",
        "            (1.0 - s_tmp) / tau_r - s_tmp / tau_d\n",
        "        s = s + dt * s_inc_tmp\n",
        "        t = t + dt\n",
        "        s_inc = np.exp(-t / tau_d_q) * (1.0 - s) / tau_r - s / tau_d\n",
        "\n",
        "    return (t_old * (-s_inc) + t * s_inc_old) / (s_inc_old - s_inc)\n",
        "\n",
        "def tau_d_q_function(tau_d, tau_r, tau_hat):\n",
        "\n",
        "    # set an interval for tau_d_q\n",
        "    tau_d_q_left = 1.0\n",
        "    while tau_peak_function(tau_d, tau_r, tau_d_q_left) > tau_hat:\n",
        "        tau_d_q_left *= 0.5\n",
        "\n",
        "    tau_d_q_right = tau_r\n",
        "    while tau_peak_function(tau_d, tau_r, tau_d_q_right) < tau_hat:\n",
        "        tau_d_q_right *= 2.0\n",
        "\n",
        "    # bisection method\n",
        "    while tau_d_q_right - tau_d_q_left > 1e-12:\n",
        "        tau_d_q_mid = 0.5 * (tau_d_q_left + tau_d_q_right)\n",
        "        if (tau_peak_function(tau_d, tau_r, tau_d_q_mid) <= tau_hat):\n",
        "            tau_d_q_left = tau_d_q_mid\n",
        "        else:\n",
        "            tau_d_q_right = tau_d_q_mid\n",
        "\n",
        "    return 0.5 * (tau_d_q_left + tau_d_q_right)\n",
        "#In case of emergency run this functions, otherwise define tau_dq_e,tau_dq_i at the begin of the code\n",
        "#tau_dq_e = tau_d_q_function(tau_d_e, tau_r_e, tau_peak_e)\n",
        "#tau_dq_i = tau_d_q_function(tau_d_i, tau_r_i, tau_peak_i)\n",
        "#print(tau_dq_e,tau_dq_i)"
      ],
      "execution_count": null,
      "outputs": []
    },
    {
      "cell_type": "markdown",
      "metadata": {
        "id": "I4NjEVTahJv1"
      },
      "source": [
        "We need some additional functions for creating the synapse between the cells."
      ]
    },
    {
      "cell_type": "code",
      "metadata": {
        "id": "C3RmvHFAhajv"
      },
      "source": [
        "#Currents\n",
        "def I_Na(V, m, h, g_na, v_na):\n",
        "        \"\"\"\n",
        "        Membrane current (in uA/cm^2)\n",
        "        Sodium (Na = element name)\n",
        "\n",
        "        |  :param V:\n",
        "        |  :param m:\n",
        "        |  :param h:\n",
        "        |  :return:\n",
        "        \"\"\"\n",
        "        return g_na * m**3 * h * (v_na-V)\n",
        "\n",
        "def I_K(V, n, g_k, v_k):\n",
        "        \"\"\"\n",
        "        Membrane current (in uA/cm^2)\n",
        "        Potassium (K = element name)\n",
        "\n",
        "        |  :param V:\n",
        "        |  :param h:\n",
        "        |  :return:\n",
        "        \"\"\"\n",
        "        return g_k  * n**4 * (v_k-V)\n",
        "\n",
        "def I_L(V, g_l, v_l):\n",
        "        \"\"\"\n",
        "        Membrane current (in uA/cm^2)\n",
        "        Leak\n",
        "\n",
        "        |  :param V:\n",
        "        |  :param h:\n",
        "        |  :return:\n",
        "        \"\"\"\n",
        "        return g_l * (v_l - V)\n",
        "\n",
        "def I_inj(t):\n",
        "        \"\"\"\n",
        "        External Current (pag 4 of chapter 4, figure 4.1)\n",
        "\n",
        "        \"\"\"\n",
        "\n",
        "\n",
        "        return 1.4*(t<100)\n",
        "\n",
        "def I_syn(V1, V2, s):\n",
        "\n",
        "        i_syn = g_syn * s * (V1 - V2)\n",
        "\n",
        "        return i_syn"
      ],
      "execution_count": null,
      "outputs": []
    },
    {
      "cell_type": "code",
      "metadata": {
        "id": "e46ZlKXG4_tR"
      },
      "source": [
        "def dALLdt(X, t):\n",
        "        \"\"\"\n",
        "        Integrate\n",
        "\n",
        "        |  :param X:\n",
        "        |  :param t:\n",
        "        |  :return: calculate membrane potential & activation variables\n",
        "        \"\"\"\n",
        "        V_e, m_e, h_e, n_e, V_i, m_i, h_i, n_i, q_e, s_e, q_i, s_i= X  \n",
        "\n",
        "        m_inf_e = alpha_m_e(V_e,0.32,54,4)/(alpha_m_e(V_e,0.32,54,4) + beta_m_e(V_e,0.28,27,5))# ESTO LO AGREGAN EN LA IMPLEMENTACION, NO SE POR QUE, NO PREGUNTEN\n",
        "\n",
        "        dVdt_e = (I_inj(t) + I_Na(V_e, m_inf_e, h_e, g_Na_e, v_Na_e) + I_K(V_e, n_e, g_K_e, v_K_e) + I_L(V_e, g_L_e, v_L_e) + I_syn(V_rev_i,V_e, s_i)) / C_m\n",
        "        dmdt_e = alpha_m_e(V_e,0.32,54,4)*(1.0-m_e) - beta_m_e(V_e,0.28,27,5)*m_e\n",
        "        dhdt_e = alpha_h_e(V_e,0.128,50,18)*(1.0-h_e) - beta_h_e(V_e,4,27,5)*h_e\n",
        "        dndt_e = alpha_n_e(V_e,0.032,52,5)*(1.0-n_e) - beta_n_e(V_e,0.5,57,40)*n_e\n",
        "        dqdt_e = 0.5* (1 + np.tanh(V_e / 10)) * (1 - q_e) / .1 - q_e / tau_dq_e\n",
        "        dsdt_e = q_e * (1 - s_e) / tau_r_e - (s_e / tau_d_e)\n",
        "\n",
        "        m_inf_i = alpha_m_i(V_i,.1,35,10)/(alpha_m_i(V_i,.1,35,10) + beta_m_i(V_i,4,60,18))# ESTO LO AGREGAN EN LA IMPLEMENTACION, NO SE POR QUE, NO PREGUNTEN\n",
        "\n",
        "        #Right now only the RTM neuron has I_inj.\n",
        "        dVdt_i = (I_Na(V_i, m_inf_i, h_i, g_Na_i, v_Na_i) + I_K(V_i, n_i, g_K_i, v_K_i) + I_L(V_i, g_L_i, v_L_i) + I_syn(V_rev_e, V_i, s_e)) / C_m\n",
        "        dmdt_i = alpha_m_i(V_i,.1,35,10)*(1.0-m_i) - beta_m_i(V_i,4,60,18)*m_i\n",
        "        dhdt_i = alpha_h_i(V_i,.35,58,20)*(1.0-h_i) - beta_h_i(V_i,5,28,10)*h_i\n",
        "        dndt_i = alpha_n_i(V_i,0.05,34,10)*(1.0-n_i) - beta_n_i(V_i,0.625,44,80)*n_i\n",
        "        dqdt_i = 0.5*(1.0 + np.tanh(V_i / 10)) * ((1.0 - q_i) /.1) - q_i / 10\n",
        "        dsdt_i = q_i * (1 - s_i) / tau_r_i - (s_i / tau_d_i)\n",
        "\n",
        "        return dVdt_e, dmdt_e, dhdt_e, dndt_e, dVdt_i, dmdt_i, dhdt_i, dndt_i, dqdt_e, dsdt_e, dqdt_i, dsdt_i"
      ],
      "execution_count": null,
      "outputs": []
    },
    {
      "cell_type": "code",
      "metadata": {
        "id": "-RBYsVN98a2m"
      },
      "source": [
        "t = np.linspace(0,150,10000)"
      ],
      "execution_count": null,
      "outputs": []
    },
    {
      "cell_type": "code",
      "metadata": {
        "id": "_FGceUbE8fbE"
      },
      "source": [
        "X0 = [-68, 0.05, 0.6, 0.32, -68, 0.05, 0.6, 0.32, 0.01, 0, 0.01, 0] # aqui puse las que tenian pero no se bien de donde salieron estos numeros\n",
        "#X0 = [-75, 0.0, 0.1, 0.1, -75, 0.0, 0.1, 0.1, 0.0, 0, 0.0, 0]\n",
        "V_e, m_e, h_e, n_e, V_i, m_i, h_i, n_i, q_e, s_e, q_i, s_i = odeint(dALLdt,X0,t).T"
      ],
      "execution_count": null,
      "outputs": []
    },
    {
      "cell_type": "code",
      "metadata": {
        "id": "70qrLLW2-lne",
        "outputId": "d17c1078-049b-4810-e32e-3df5b41e346f",
        "colab": {
          "base_uri": "https://localhost:8080/",
          "height": 614
        }
      },
      "source": [
        "\n",
        "\n",
        "#plt.\n",
        "fig, ax = plt.subplots(3,1,figsize = (10,10))\n",
        "ax[0].plot(t,V_e, label = \"RTM\")\n",
        "ax[0].plot(t, V_i, label = \"WB\")\n",
        "ax[0].set_xlabel(\"Time (s)\")\n",
        "ax[0].set_ylabel(\"Potential (mV)\")\n",
        "ax[0].legend()\n",
        "\n",
        "ax[1].plot(t, I_inj(t))\n",
        "ax[1].set_ylabel(\"Injected current (mA)\")\n",
        "\n",
        "ax[2].plot(t,I_syn(V_rev_e, V_i, s_e),label = \"Excitatory\")\n",
        "ax[2].plot(t,I_syn(V_rev_i, V_e, s_i),label = \"Inhibitory\")\n",
        "ax[2].set_ylabel(\"$I_{sinc}$ current (mA)\")\n",
        "ax[2].legend()"
      ],
      "execution_count": null,
      "outputs": [
        {
          "output_type": "execute_result",
          "data": {
            "text/plain": [
              "<matplotlib.legend.Legend at 0x7f235549bf98>"
            ]
          },
          "metadata": {
            "tags": []
          },
          "execution_count": 12
        },
        {
          "output_type": "display_data",
          "data": {
            "image/png": "[encoded data removed]",
            "text/plain": [
              "<Figure size 720x720 with 3 Axes>"
            ]
          },
          "metadata": {
            "tags": [],
            "needs_background": "light"
          }
        }
      ]
    }
  ]
}